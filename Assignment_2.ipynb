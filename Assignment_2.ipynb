{
  "nbformat": 4,
  "nbformat_minor": 0,
  "metadata": {
    "colab": {
      "provenance": [],
      "toc_visible": true,
      "include_colab_link": true
    },
    "kernelspec": {
      "name": "python3",
      "display_name": "Python 3"
    },
    "language_info": {
      "name": "python"
    }
  },
  "cells": [
    {
      "cell_type": "markdown",
      "metadata": {
        "id": "view-in-github",
        "colab_type": "text"
      },
      "source": [
        "<a href=\"https://colab.research.google.com/github/kumarpriyanshu2k2/Computer-Vision-Assignments/blob/main/Assignment_2.ipynb\" target=\"_parent\"><img src=\"https://colab.research.google.com/assets/colab-badge.svg\" alt=\"Open In Colab\"/></a>"
      ]
    },
    {
      "cell_type": "markdown",
      "source": [
        "<center>\n",
        "<h1><strong> Computer Vision assignment 2 </strong></h1>\n",
        "</center>"
      ],
      "metadata": {
        "id": "5gnVmnCuRVO6"
      }
    },
    {
      "cell_type": "markdown",
      "source": [
        "**This assignment will challenge your understanding of basic python programming paradigm and evaluate your intution of numpy **\n",
        "\n",
        "- Make sure all the implementations are general and should work for any test case that we use\n",
        "- Numpy link: https://www.youtube.com/watch?v=QUT1VHiLmmI&t=958s \n",
        "- the above link will provide a general introduction to numpy - if additional information is needed refer to the documentation \n",
        "\n"
      ],
      "metadata": {
        "id": "0zSwRgknRiQu"
      }
    },
    {
      "cell_type": "markdown",
      "source": [
        "## **Instructions :**"
      ],
      "metadata": {
        "id": "IRUoYr2u2Eeg"
      }
    },
    {
      "cell_type": "markdown",
      "source": [
        "\n",
        "- Make a copy of this Colab notebook (else any changes you make wont be saved)\n",
        "- Feel free to add more code blocks in between questions if you feel you need it\n",
        "- Submit the link of your Colab notebook on this [Link](https://forms.gle/ncuP2Xr5JhE6Hxcx9) once you are done with the assignment (Make sure to give edit access to BITS Pilani University)"
      ],
      "metadata": {
        "id": "si5j_ygayB6p"
      }
    },
    {
      "cell_type": "markdown",
      "source": [
        "---\n",
        "## **Numpy**"
      ],
      "metadata": {
        "id": "aObvH5Q-2co2"
      }
    },
    {
      "cell_type": "code",
      "source": [
        "import numpy as np\n",
        "import string"
      ],
      "metadata": {
        "id": "ekt88Ug9o1DN"
      },
      "execution_count": null,
      "outputs": []
    },
    {
      "cell_type": "markdown",
      "source": [
        "\n",
        "#### `Q1) create a 1-D numpy array with elements from 0 to 10`"
      ],
      "metadata": {
        "id": "0Fka-WJeeAiW"
      }
    },
    {
      "cell_type": "code",
      "source": [],
      "metadata": {
        "id": "aR13iSUpfGu_"
      },
      "execution_count": null,
      "outputs": []
    },
    {
      "cell_type": "markdown",
      "source": [
        "\n",
        "#### `Q2) Create a 2D numpy array of shape = (7,8)`"
      ],
      "metadata": {
        "id": "B5EghpLPfJw8"
      }
    },
    {
      "cell_type": "code",
      "source": [],
      "metadata": {
        "id": "UFQ9zOPOfLNM"
      },
      "execution_count": null,
      "outputs": []
    },
    {
      "cell_type": "markdown",
      "source": [
        "#### `Q3) Create a 1-D numpy array of size 10 with random integer values ranging from 40 to 69. Once created print the sorted array.`"
      ],
      "metadata": {
        "id": "RuqhCa7ZfMGu"
      }
    },
    {
      "cell_type": "code",
      "source": [],
      "metadata": {
        "id": "TDf64tzffINq"
      },
      "execution_count": null,
      "outputs": []
    },
    {
      "cell_type": "markdown",
      "source": [
        "#### `Q4) Find indices of non-zero elements in [1,5,0,0,53,78,4,0,21,79,0,4,5,17]`"
      ],
      "metadata": {
        "id": "ODXvYSy7fM8D"
      }
    },
    {
      "cell_type": "code",
      "source": [],
      "metadata": {
        "id": "YYhCBaN7fIIo"
      },
      "execution_count": null,
      "outputs": []
    },
    {
      "cell_type": "markdown",
      "source": [
        "\n",
        "#### `Q5) Create a random vector and replce the maximum element by 10`"
      ],
      "metadata": {
        "id": "KZLuX9VffNYT"
      }
    },
    {
      "cell_type": "code",
      "source": [],
      "metadata": {
        "id": "vaxjm68ifIA7"
      },
      "execution_count": null,
      "outputs": []
    }
  ]
}